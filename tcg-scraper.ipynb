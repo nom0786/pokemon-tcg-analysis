{
 "cells": [
  {
   "cell_type": "code",
   "execution_count": 1,
   "id": "13c32af0",
   "metadata": {},
   "outputs": [
    {
     "name": "stdout",
     "output_type": "stream",
     "text": [
      "Loaded the URL\n",
      "Loaded the URL\n",
      "Loaded the URL\n",
      "Loaded the URL\n",
      "Loaded the URL\n",
      "Loaded the URL\n",
      "Loaded the URL\n",
      "Loaded the URL\n",
      "Loaded the URL\n",
      "Loaded the URL\n",
      "Loaded the URL\n",
      "Loaded the URL\n"
     ]
    }
   ],
   "source": [
    "from bs4 import BeautifulSoup\n",
    "import requests\n",
    "import pandas as pd\n",
    "import re\n",
    "\n",
    "urls = ['https://shop.tcgplayer.com/price-guide/pokemon/swsh01-sword-and-shield-base-set', 'https://shop.tcgplayer.com/price-guide/pokemon/swsh02-rebel-clash',\n",
    "       'https://shop.tcgplayer.com/price-guide/pokemon/swsh03-darkness-ablaze', 'https://shop.tcgplayer.com/price-guide/pokemon/swsh04-vivid-voltage',\n",
    "       'https://shop.tcgplayer.com/price-guide/pokemon/swsh05-battle-styles', 'https://shop.tcgplayer.com/price-guide/pokemon/swsh06-chilling-reign',\n",
    "       'https://shop.tcgplayer.com/price-guide/pokemon/swsh07-evolving-skies', 'https://shop.tcgplayer.com/price-guide/pokemon/swsh08-fusion-strike',\n",
    "       'https://shop.tcgplayer.com/price-guide/pokemon/swsh09-brilliant-stars', 'https://shop.tcgplayer.com/price-guide/pokemon/swsh10-astral-radiance',\n",
    "       'https://shop.tcgplayer.com/price-guide/pokemon/swsh11-lost-origin', 'https://shop.tcgplayer.com/price-guide/pokemon/swsh12-silver-tempest']     \n",
    "\n",
    "set_name = []\n",
    "set_abb = []\n",
    "card_name = []\n",
    "card_price = []\n",
    "\n",
    "for url in urls:\n",
    "    result = requests.get(url)\n",
    "    if result.status_code == 200:\n",
    "        print(f\"Loaded the URL\")\n",
    "    doc = BeautifulSoup(result.text, \"html.parser\")\n",
    "    \n",
    "    #scraping the set name \n",
    "    product_title_text = doc.find('h2').text.strip()\n",
    "    product_title = re.search(r': (.*?) Price', product_title_text).group(1)\n",
    "    \n",
    "    #scraping the set abbreviation\n",
    "    product_abb = doc.find('h2').text.strip().split(' ')[1].split(':')[0]\n",
    "    \n",
    "    set_table = doc.find('table', class_='priceGuideTable tablesorter')\n",
    "    row = set_table.find_all('tr', class_= ['odd', 'even'])\n",
    "    for row in row:\n",
    "        \n",
    "        #setting set name for each card (will be same)\n",
    "        set_name.append(product_title)\n",
    "        \n",
    "        #setting set name abbreviation for each card (will be same)\n",
    "        set_abb.append(product_abb)\n",
    "        \n",
    "        #getting name for each card\n",
    "        product_detail = row.find('div', class_='productDetail')\n",
    "        product_name = product_detail.find('a').text\n",
    "        card_name.append(product_name)\n",
    "        \n",
    "        #getting price for each card\n",
    "        marketPrice_td = row.find('td', class_='marketPrice')\n",
    "        product_price = marketPrice_td.find('div', class_=\"cellWrapper\").text.strip().lstrip('$')\n",
    "        card_price.append(product_price)\n",
    "        \n",
    "        \n",
    "        \n",
    "        "
   ]
  },
  {
   "cell_type": "code",
   "execution_count": 2,
   "id": "d61f5524",
   "metadata": {},
   "outputs": [],
   "source": [
    "pokemon_data = {'set abbreviation': set_abb, 'set name': set_name, 'card name': card_name, 'price': card_price}\n",
    "df = pd.DataFrame(pokemon_data)"
   ]
  },
  {
   "cell_type": "code",
   "execution_count": 3,
   "id": "edecc4d7",
   "metadata": {},
   "outputs": [],
   "source": [
    "df = df[~df['card name'].str.startswith('Code Card')]"
   ]
  },
  {
   "cell_type": "code",
   "execution_count": 4,
   "id": "7a3edcbc",
   "metadata": {},
   "outputs": [],
   "source": [
    "df['price'] = df['price'].astype(float)"
   ]
  },
  {
   "cell_type": "code",
   "execution_count": 5,
   "id": "1674ac4c",
   "metadata": {},
   "outputs": [],
   "source": [
    "df.to_csv('pokemon_cards.csv', index=False)"
   ]
  }
 ],
 "metadata": {
  "kernelspec": {
   "display_name": "Python 3 (ipykernel)",
   "language": "python",
   "name": "python3"
  },
  "language_info": {
   "codemirror_mode": {
    "name": "ipython",
    "version": 3
   },
   "file_extension": ".py",
   "mimetype": "text/x-python",
   "name": "python",
   "nbconvert_exporter": "python",
   "pygments_lexer": "ipython3",
   "version": "3.10.8"
  }
 },
 "nbformat": 4,
 "nbformat_minor": 5
}
